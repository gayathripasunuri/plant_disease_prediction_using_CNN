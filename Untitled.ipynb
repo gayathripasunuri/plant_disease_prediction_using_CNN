{
 "cells": [
  {
   "cell_type": "code",
   "execution_count": 1,
   "id": "278d7590-b1ed-412a-962b-681adc81a341",
   "metadata": {},
   "outputs": [],
   "source": [
    "import os\n",
    "os.environ[\"PYTHONIOENCODING\"] = \"utf-8\"\n"
   ]
  },
  {
   "cell_type": "code",
   "execution_count": null,
   "id": "5668dc29-9855-4bb8-8024-7646389f6cf5",
   "metadata": {},
   "outputs": [],
   "source": [
    "!streamlit run main.py"
   ]
  },
  {
   "cell_type": "code",
   "execution_count": null,
   "id": "3598de12-91bd-4bb2-9303-121e349eb739",
   "metadata": {},
   "outputs": [],
   "source": []
  }
 ],
 "metadata": {
  "kernelspec": {
   "display_name": "Python 3 (ipykernel)",
   "language": "python",
   "name": "python3"
  },
  "language_info": {
   "codemirror_mode": {
    "name": "ipython",
    "version": 3
   },
   "file_extension": ".py",
   "mimetype": "text/x-python",
   "name": "python",
   "nbconvert_exporter": "python",
   "pygments_lexer": "ipython3",
   "version": "3.12.4"
  }
 },
 "nbformat": 4,
 "nbformat_minor": 5
}
