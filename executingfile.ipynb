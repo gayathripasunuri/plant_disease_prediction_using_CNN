{
 "cells": [
  {
   "cell_type": "code",
   "execution_count": 2,
   "id": "d52ab7cb-231a-4660-bd4b-e9e7e2fb4975",
   "metadata": {},
   "outputs": [],
   "source": [
    "import os\n",
    "os.environ[\"PYTHONIOENCODING\"] = \"utf-8\"\n"
   ]
  },
  {
   "cell_type": "code",
   "execution_count": null,
   "id": "fea96840-5b05-428d-8363-d3e5a35067ca",
   "metadata": {},
   "outputs": [],
   "source": [
    "!streamlit run main.py\n"
   ]
  },
  {
   "cell_type": "code",
   "execution_count": null,
   "id": "ad11ef37-2aa0-4166-8802-28a8d2a37c4f",
   "metadata": {},
   "outputs": [],
   "source": [
    "!streamlit run main.py"
   ]
  },
  {
   "cell_type": "code",
   "execution_count": null,
   "id": "c80f812c-f476-497b-928d-a34bc039aa49",
   "metadata": {},
   "outputs": [],
   "source": []
  }
 ],
 "metadata": {
  "kernelspec": {
   "display_name": "Python 3 (ipykernel)",
   "language": "python",
   "name": "python3"
  },
  "language_info": {
   "codemirror_mode": {
    "name": "ipython",
    "version": 3
   },
   "file_extension": ".py",
   "mimetype": "text/x-python",
   "name": "python",
   "nbconvert_exporter": "python",
   "pygments_lexer": "ipython3",
   "version": "3.12.4"
  }
 },
 "nbformat": 4,
 "nbformat_minor": 5
}
